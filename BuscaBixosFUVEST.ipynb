{
  "nbformat": 4,
  "nbformat_minor": 0,
  "metadata": {
    "colab": {
      "name": "BuscaBixosFUVEST.ipynb",
      "provenance": [],
      "collapsed_sections": [],
      "authorship_tag": "ABX9TyNvJboyKtYALPGwbOALWC+C",
      "include_colab_link": true
    },
    "kernelspec": {
      "name": "python3",
      "display_name": "Python 3"
    }
  },
  "cells": [
    {
      "cell_type": "markdown",
      "metadata": {
        "id": "view-in-github",
        "colab_type": "text"
      },
      "source": [
        "<a href=\"https://colab.research.google.com/github/Thiago-Marafeli-USP/buscaBixosFUVEST/blob/main/BuscaBixosFUVEST.ipynb\" target=\"_parent\"><img src=\"https://colab.research.google.com/assets/colab-badge.svg\" alt=\"Open In Colab\"/></a>"
      ]
    },
    {
      "cell_type": "code",
      "metadata": {
        "colab": {
          "base_uri": "https://localhost:8080/"
        },
        "id": "TNGq450tqix_",
        "outputId": "287138e9-073f-43fe-aaf9-39c9c23b3ce3"
      },
      "source": [
        "pip install PyPDF2"
      ],
      "execution_count": 1,
      "outputs": [
        {
          "output_type": "stream",
          "text": [
            "Requirement already satisfied: PyPDF2 in /usr/local/lib/python3.7/dist-packages (1.26.0)\n"
          ],
          "name": "stdout"
        }
      ]
    },
    {
      "cell_type": "code",
      "metadata": {
        "id": "bYLzADPoqWRQ"
      },
      "source": [
        "# requisito para ler PDFs\r\n",
        "import PyPDF2"
      ],
      "execution_count": 2,
      "outputs": []
    },
    {
      "cell_type": "code",
      "metadata": {
        "id": "KFwiq1kVtox4"
      },
      "source": [
        "# adicionar individualmente os valores que quiser, se quiser\r\n",
        "# este item é opcional, serve apenas para facilitar a leitura\r\n",
        "# se não quiser utilizar, deixe vazio\r\n",
        "# caso apague esta variável,\r\n",
        "\r\n",
        "# ATENÇÃO: os códigos dos cursos podem alterar a cada vestibular\r\n",
        "# verifique se estão atualizados\r\n",
        "# estes são os códigos dos cursos da USP Campus São Carlos de 2021\r\n",
        "cursos = {\r\n",
        "    \"110-08\": \"IAU - Arquitetura\",\r\n",
        "    \"700-01\": \"IFSC - Ciências Físicas e Moleculares\",\r\n",
        "    \"710-06\": \"ICMC - Ciências da Computação\",\r\n",
        "    \"715-08\": \"EESC - Eng. Aeronáutica\",\r\n",
        "    \"725-10\": \"EESC - Eng. Ambiental\",\r\n",
        "    \"735-12\": \"EESC - Eng. Civil\",\r\n",
        "    \"755-17\": \"EESC - Eng. Materiais e Manufatura\",\r\n",
        "    \"765-19\": \"EESC - Eng. Elétrica (enf. em Eletrônica)\",\r\n",
        "    \"765-20\": \"EESC - Eng. Elétrica (enf. em Sistemas de Energia e Automação)\",\r\n",
        "    \"765-21\": \"EESC e ICMC - Eng. Computação\",\r\n",
        "    \"775-25\": \"EESC - Eng. Mecânica\",\r\n",
        "    \"775-26\": \"EESC - Eng. Produção\",\r\n",
        "    \"775-27\": \"EESC - Eng. Mecatrônica\",\r\n",
        "    \"790-42\": \"IFSC - Física (bach.)\",\r\n",
        "    \"790-43\": \"IFSC - Física Computacional\",\r\n",
        "    \"790-51\": \"ICMC - Matemática Aplicada e Computação Científica\",\r\n",
        "    \"790-52\": \"ICMC - Matemática (bach. e lic.)\",\r\n",
        "    \"790-53\": \"ICMC - Estatística e Ciência de Dados\",\r\n",
        "    \"791-54\": \"ICMC - Ciência de Dados\",\r\n",
        "    \"815-58\": \"IFSC, IQSC e ICMC - Lic. em Ciências Exatas (com Habilitação em Fís., Quím. ou Mat.)\",\r\n",
        "    \"870-70\": \"IQSC - Química (bach.)\",\r\n",
        "    \"875-71\": \"ICMC - Sistemas de Informação\"\r\n",
        "}"
      ],
      "execution_count": 3,
      "outputs": []
    },
    {
      "cell_type": "code",
      "metadata": {
        "colab": {
          "base_uri": "https://localhost:8080/"
        },
        "id": "Im9rC-ETqct0",
        "outputId": "42ffabf9-33c1-475f-f186-b0cf0767d0d0"
      },
      "source": [
        "# arq receberá o caminho \"/x/y/z\"\r\n",
        "arq = input(\"Digite o caminho do arquivo: \")\r\n",
        "# file handler\r\n",
        "pdfFileObj = open(arq, 'rb')\r\n",
        "\r\n",
        "# processa o arquivo no PyPDF2 para poder usá-lo\r\n",
        "pdfReader = PyPDF2.PdfFileReader(pdfFileObj)"
      ],
      "execution_count": 4,
      "outputs": [
        {
          "output_type": "stream",
          "text": [
            "Digite o caminho do arquivo: /content/fuvest_2020_chamada_1.pdf\n"
          ],
          "name": "stdout"
        }
      ]
    },
    {
      "cell_type": "code",
      "metadata": {
        "id": "cXHIXC1UqwA3"
      },
      "source": [
        "# lista de bixos\r\n",
        "bixos = []\r\n",
        "\r\n",
        "# itera página por página\r\n",
        "for page in range(pdfReader.numPages):\r\n",
        "  pageObj = pdfReader.getPage(page)\r\n",
        "\r\n",
        "  # extração do texto da página\r\n",
        "  texto = pageObj.extractText()\r\n",
        "  # separa por linhas\r\n",
        "  linha = texto.split('\\n')\r\n",
        "\r\n",
        "  # itera linha por linha\r\n",
        "  for i in linha:\r\n",
        "    # caso seja alguma linha do topo da página, pular\r\n",
        "    if i == linha[0] or i == linha[1] or i == linha[-1]:\r\n",
        "      pass\r\n",
        "\r\n",
        "    else:\r\n",
        "      # procura pelos AAAA BBBB CCCC presentes a cada mudança de letra inicial\r\n",
        "      # e retira essas repetições\r\n",
        "      if i[0] == i[1]:\r\n",
        "        l = i[0]\r\n",
        "        cont = 0\r\n",
        "        while True:\r\n",
        "          if i[cont] == i[cont+1]:\r\n",
        "            cont = cont + 1\r\n",
        "          else:\r\n",
        "            i = i[cont:]\r\n",
        "            break\r\n",
        "\r\n",
        "      # pega o nome\r\n",
        "      nome = i[:-13]\r\n",
        "      # pega o código do curso\r\n",
        "      curso = i[-6:]\r\n",
        "      # anexa os dados anteriores num dicionário\r\n",
        "      bixo = {\"Nome\": nome, \"Curso\": curso}\r\n",
        "\r\n",
        "      #anexa os dados do bixo na lista\r\n",
        "      if i != []:\r\n",
        "        bixos.append(bixo)"
      ],
      "execution_count": 5,
      "outputs": []
    },
    {
      "cell_type": "code",
      "metadata": {
        "colab": {
          "base_uri": "https://localhost:8080/"
        },
        "id": "YzSE_szbzI-Z",
        "outputId": "6d44aa14-f583-4a3f-8427-848c4229b7c4"
      },
      "source": [
        "cod = input(\"Digite o código do curso no formato xxx-xx : \")\r\n",
        "\r\n",
        "try:\r\n",
        "  # procurará o código do curso no dicionário\r\n",
        "  if cod in cursos:\r\n",
        "    curso = cursos[cod]\r\n",
        "  else:\r\n",
        "    curso = cod\r\n",
        "# caso a váriável cursos seja apagada,\r\n",
        "# será assumido que o usuário sabe que o código existe\r\n",
        "except:\r\n",
        "  curso = cod\r\n",
        "\r\n",
        "# o \"Aprovados:\" poderia aparecer apenas caso houvesse >0 aprovados\r\n",
        "# mas isso implicaria em uma verificação desnecessária a mais a cada passada\r\n",
        "print(\"\\nCurso:\", curso, \"\\n\\nAprovados:\\n\")\r\n",
        "aprovados = 0\r\n",
        "for bixo in bixos:\r\n",
        "  if bixo[\"Curso\"] == cod:\r\n",
        "    print(bixo[\"Nome\"])\r\n",
        "    aprovados += 1\r\n",
        "\r\n",
        "if aprovados == 0:\r\n",
        "  print(\"Não foi possível encontrar bixos no curso selecionado!\")\r\n",
        "  print(\"Isso pode ocorrer caso:\")\r\n",
        "  print(\"- Não haja pessoas convocadas para o curso nesta chamada\")\r\n",
        "  print(\"- O código digitado esteja errado\\n\")\r\n",
        "else:\r\n",
        "  print()\r\n",
        "  print(aprovados, \"pessoas foram aprovadas no curso\", curso, \"nesta chamada!\\n\")"
      ],
      "execution_count": 6,
      "outputs": [
        {
          "output_type": "stream",
          "text": [
            "Digite o código do curso no formato xxx-xx : 710-06\n",
            "\n",
            "Curso: ICMC - Ciências da Computação \n",
            "\n",
            "Aprovados:\n",
            "\n",
            "Alexandre David de Mendonca Ca...\n",
            "Alexandre Lima Palles Rocha\n",
            "Alxelio Ribeiro Esteves\n",
            "Bernardo Marques Costa\n",
            "Breno Goncalves Rodrigues\n",
            "Breno Livio Silva de Almeida\n",
            "Christian Bernard Simas Correa Gi...\n",
            "Ciro Grossi Falsarella\n",
            "Daniel Oliveira Barbosa\n",
            "Davi Machado Calderari\n",
            "Diego Pereira da Silva\n",
            "Dylan Kiyoshi Kaneko Nishina\n",
            "Eduardo Garcia de Gaspari Valdej...\n",
            "Eduardo Henrique Porto Silva\n",
            "Felipe Kaneshiro de Souza\n",
            "Fernando Henrique Paes Generich\n",
            "Gabriel da Cunha Dertoni\n",
            "Gabriel Freitas Ximenes de Vasco...\n",
            "Gabriel Fronio Carvalho\n",
            "Gabriel Vicente Rodrigues\n",
            "Giovanni Shibaki Camargo\n",
            "Guilherme de Barros Monteiro Ferr...\n",
            "Guilherme Pacheco de Oliveira So...\n",
            "Guilherme Vendruscolo Cangemi ...\n",
            "Gustavo Guimaraes Souto\n",
            "Henrique Querubin Pereira Barbos...\n",
            "Igor dos Santos Silva\n",
            "Ilan Francisco da Silva\n",
            "Israel Felipe da Silva\n",
            "Joao Francisco Caprioli Barbosa C...\n",
            "Joao Guilherme Jarochinski Marin...\n",
            "Joao Lucas Rodrigues Constantino\n",
            "Joao Marcos Cardoso da Silva\n",
            "Joao Victor de Oliveira Pataro\n",
            "Joao Victor Sene Araujo\n",
            "Joao Victor Soares Aleixo\n",
            "Jonatas Alves Lopes\n",
            "Jose Gabriel Furlan de Barros\n",
            "Lua Nowacki Scavacini Santilli\n",
            "Lucas Keiti Anbo Mihara\n",
            "Lucas Massao Fukusawa Dagnon...\n",
            "Luis Felipe Bertuol\n",
            "Marco Antonio Ribeiro de Toledo\n",
            "Marcos Patricio Nogueira Filho\n",
            "Mateus dos Santos Ribeiro\n",
            "Matheus Ventura de Sousa\n",
            "Milena Correa da Silva\n",
            "Natan Henrique Sanches\n",
            "Pedro Afonso Perez Chagas\n",
            "Pedro Ferragut Rodrigues\n",
            "Pedro Henrique Borges Monici\n",
            "Pedro Henrique Raymundi\n",
            "Pedro Kenzo Muramatsu Carmo\n",
            "Pedro Liduino do Nascimento\n",
            "Pedro Lucas de Moliner de Castro\n",
            "Pedro Martelleto Bressane Rezend...\n",
            "Raissa Torres Barreira\n",
            "Renato Sampaio Kobashigawa\n",
            "Rodrigo Lopes Assaf\n",
            "Tales Perroni Nicoletti\n",
            "Thales Darini Souza\n",
            "Thamyres Santos Silva\n",
            "Thiago Henrique dos Santos Card...\n",
            "Tulio Santana Ramos\n",
            "Victor Cologni Seles\n",
            "Victor Henrique de Sa Silva\n",
            "Victor Paulo Cruz Lutes\n",
            "Vitor Caetano Brustolin\n",
            "Wellington Tavares Alexandre da ...\n",
            "Yann Amado Nunes Costa\n",
            "\n",
            "70 pessoas foram aprovadas no curso ICMC - Ciências da Computação nesta chamada!\n",
            "\n"
          ],
          "name": "stdout"
        }
      ]
    },
    {
      "cell_type": "code",
      "metadata": {
        "id": "OxhiS6dCq0e9"
      },
      "source": [
        "# descomente isto para fechar o arquivo\r\n",
        "# pdfFileObj.close()"
      ],
      "execution_count": 7,
      "outputs": []
    }
  ]
}