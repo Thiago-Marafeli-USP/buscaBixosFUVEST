{
  "nbformat": 4,
  "nbformat_minor": 0,
  "metadata": {
    "colab": {
      "name": "BuscaBixosFUVEST.ipynb",
      "provenance": [],
      "collapsed_sections": [],
      "authorship_tag": "ABX9TyPTwjWvcV0m7lATbTIQzIrR",
      "include_colab_link": true
    },
    "kernelspec": {
      "name": "python3",
      "display_name": "Python 3"
    }
  },
  "cells": [
    {
      "cell_type": "markdown",
      "metadata": {
        "id": "view-in-github",
        "colab_type": "text"
      },
      "source": [
        "<a href=\"https://colab.research.google.com/github/Thiago-Marafeli-USP/buscaBixosFUVEST/blob/main/BuscaBixosFUVEST.ipynb\" target=\"_parent\"><img src=\"https://colab.research.google.com/assets/colab-badge.svg\" alt=\"Open In Colab\"/></a>"
      ]
    },
    {
      "cell_type": "code",
      "metadata": {
        "colab": {
          "base_uri": "https://localhost:8080/"
        },
        "id": "TNGq450tqix_",
        "outputId": "5df75c2f-9d7a-432b-cfc4-35a750b63cf2"
      },
      "source": [
        "pip install PyPDF2"
      ],
      "execution_count": 1,
      "outputs": [
        {
          "output_type": "stream",
          "text": [
            "Requirement already satisfied: PyPDF2 in /usr/local/lib/python3.7/dist-packages (1.26.0)\n"
          ],
          "name": "stdout"
        }
      ]
    },
    {
      "cell_type": "code",
      "metadata": {
        "id": "bYLzADPoqWRQ"
      },
      "source": [
        "# requisito para ler PDFs\r\n",
        "import PyPDF2\r\n",
        "# regex\r\n",
        "import re"
      ],
      "execution_count": 2,
      "outputs": []
    },
    {
      "cell_type": "code",
      "metadata": {
        "id": "KFwiq1kVtox4"
      },
      "source": [
        "# adicionar individualmente os valores que quiser, se quiser\r\n",
        "# este item é opcional, serve apenas para facilitar a leitura\r\n",
        "# se não quiser utilizar, deixe vazio\r\n",
        "# caso apague esta variável,\r\n",
        "\r\n",
        "# ATENÇÃO: os códigos dos cursos podem alterar a cada vestibular\r\n",
        "# verifique se estão atualizados\r\n",
        "cursos = {\r\n",
        "    \"110-08\": \"IAU - Arquitetura\",\r\n",
        "    \"700-01\": \"IFSC - Ciências Físicas e Moleculares\",\r\n",
        "    \"710-06\": \"ICMC - Ciências da Computação\",\r\n",
        "    \"715-08\": \"EESC - Eng. Aeronáutica\",\r\n",
        "    \"725-10\": \"EESC - Eng. Ambiental\",\r\n",
        "    \"735-12\": \"EESC - Eng. Civil\",\r\n",
        "    \"755-17\": \"EESC - Eng. Materiais e Manufatura\",\r\n",
        "    \"765-19\": \"EESC - Eng. Elétrica (enf. em Eletrônica)\",\r\n",
        "    \"765-20\": \"EESC - Eng. Elétrica (enf. em Sistemas de Energia e Automação)\",\r\n",
        "    \"765-21\": \"EESC e ICMC - Eng. Computação\",\r\n",
        "    \"775-25\": \"EESC - Eng. Mecânica\",\r\n",
        "    \"775-26\": \"EESC - Eng. Produção\",\r\n",
        "    \"775-27\": \"EESC - Eng. Mecatrônica\",\r\n",
        "    \"790-42\": \"IFSC - Física (bach.)\",\r\n",
        "    \"790-43\": \"IFSC - Física Computacional\",\r\n",
        "    \"790-51\": \"ICMC - Matemática Aplicada e Computação Científica\",\r\n",
        "    \"790-52\": \"ICMC - Matemática (bach. e lic.)\",\r\n",
        "    \"790-53\": \"ICMC - Estatística e Ciência de Dados\",\r\n",
        "    \"791-54\": \"ICMC - Ciência de Dados\",\r\n",
        "    \"815-58\": \"IFSC, IQSC e ICMC - Lic. em Ciências Exatas (com Habilitação em Fís., Quím. ou Mat.)\",\r\n",
        "    \"870-70\": \"IQSC - Química (bach.)\",\r\n",
        "    \"875-71\": \"ICMC - Sistemas de Informação\"\r\n",
        "}"
      ],
      "execution_count": 3,
      "outputs": []
    },
    {
      "cell_type": "code",
      "metadata": {
        "colab": {
          "base_uri": "https://localhost:8080/"
        },
        "id": "Im9rC-ETqct0",
        "outputId": "390b5420-c8ee-4fc3-e3b2-b24385a2d6f8"
      },
      "source": [
        "# arq receberá o caminho \"/x/y/z\"\r\n",
        "arq = input(\"Digite o caminho do arquivo: \")\r\n",
        "# file handler\r\n",
        "pdfFileObj = open(arq, 'rb')\r\n",
        "\r\n",
        "# processa o arquivo no PyPDF2 para poder usá-lo\r\n",
        "pdfReader = PyPDF2.PdfFileReader(pdfFileObj)"
      ],
      "execution_count": 4,
      "outputs": [
        {
          "output_type": "stream",
          "text": [
            "Digite o caminho do arquivo: /content/fuvest_2020_chamada_1.pdf\n"
          ],
          "name": "stdout"
        }
      ]
    },
    {
      "cell_type": "code",
      "metadata": {
        "id": "cXHIXC1UqwA3"
      },
      "source": [
        "# lista de bixos\r\n",
        "bixos = []\r\n",
        "\r\n",
        "# itera página por página\r\n",
        "for page in range(pdfReader.numPages):\r\n",
        "  pageObj = pdfReader.getPage(page)\r\n",
        "\r\n",
        "  # extração do texto da página\r\n",
        "  texto = pageObj.extractText()\r\n",
        "  # separa por linhas\r\n",
        "  linha = texto.split('\\n')\r\n",
        "\r\n",
        "  # itera linha por linha\r\n",
        "  for i in linha:\r\n",
        "    # caso seja alguma linha do topo da página, pular\r\n",
        "    if i == linha[0] or i == linha[1] or i == linha[-1]:\r\n",
        "      pass\r\n",
        "\r\n",
        "    else:\r\n",
        "      # procura pelos AAAA BBBB CCCC presentes a cada mudança de letra inicial\r\n",
        "      # e retira essas repetições\r\n",
        "      if re.search(\"[A-Z][A-Z]\", i):\r\n",
        "        i = re.sub(\"[A-Z]{36}\", \"\", i)\r\n",
        "      \r\n",
        "      # pega o nome\r\n",
        "      nome = i[:-13]\r\n",
        "      # pega o código do curso\r\n",
        "      curso = i[-6:]\r\n",
        "      # anexa os dados anteriores num dicionário\r\n",
        "      bixo = {\"Nome\": nome, \"Curso\": curso}\r\n",
        "\r\n",
        "      #anexa os dados do bixo na lista\r\n",
        "      if i != []:\r\n",
        "        bixos.append(bixo)"
      ],
      "execution_count": 5,
      "outputs": []
    },
    {
      "cell_type": "code",
      "metadata": {
        "colab": {
          "base_uri": "https://localhost:8080/"
        },
        "id": "YzSE_szbzI-Z",
        "outputId": "df4efa08-ff4e-423d-b4a7-f2a03e90fb0d"
      },
      "source": [
        "cod = input(\"Digite o código do curso no formato xxx-xx : \")\r\n",
        "\r\n",
        "try:\r\n",
        "  # procurará o código do curso no dicionário\r\n",
        "  if cod in cursos:\r\n",
        "    curso = cursos[cod]\r\n",
        "  else:\r\n",
        "    curso = None\r\n",
        "# caso a váriável cursos seja apagada,\r\n",
        "# será assumido que o usuário sabe que o código existe\r\n",
        "except:\r\n",
        "  curso = cod\r\n",
        "\r\n",
        "if curso == None:\r\n",
        "  print(\"\\nCurso não encontrado! Tente novamente!\\n\")\r\n",
        "else:\r\n",
        "  print(\"\\nCurso:\", curso)\r\n",
        "  for bixo in bixos:\r\n",
        "    if bixo[\"Curso\"] == cod:\r\n",
        "      print(\"\\tNome:\", bixo[\"Nome\"])\r\n",
        "  print()"
      ],
      "execution_count": 6,
      "outputs": [
        {
          "output_type": "stream",
          "text": [
            "Digite o código do curso no formato xxx-xx : 710-06\n",
            "\n",
            "Curso: ICMC - Ciências da Computação\n",
            "\tNome: Alexandre David de Mendonca Ca...\n",
            "\tNome: Alexandre Lima Palles Rocha\n",
            "\tNome: Alxelio Ribeiro Esteves\n",
            "\tNome: Bernardo Marques Costa\n",
            "\tNome: Breno Goncalves Rodrigues\n",
            "\tNome: Breno Livio Silva de Almeida\n",
            "\tNome: Christian Bernard Simas Correa Gi...\n",
            "\tNome: Ciro Grossi Falsarella\n",
            "\tNome: Daniel Oliveira Barbosa\n",
            "\tNome: Davi Machado Calderari\n",
            "\tNome: Diego Pereira da Silva\n",
            "\tNome: Dylan Kiyoshi Kaneko Nishina\n",
            "\tNome: Eduardo Garcia de Gaspari Valdej...\n",
            "\tNome: Eduardo Henrique Porto Silva\n",
            "\tNome: Felipe Kaneshiro de Souza\n",
            "\tNome: Fernando Henrique Paes Generich\n",
            "\tNome: Gabriel da Cunha Dertoni\n",
            "\tNome: Gabriel Freitas Ximenes de Vasco...\n",
            "\tNome: Gabriel Fronio Carvalho\n",
            "\tNome: Gabriel Vicente Rodrigues\n",
            "\tNome: Giovanni Shibaki Camargo\n",
            "\tNome: Guilherme de Barros Monteiro Ferr...\n",
            "\tNome: Guilherme Pacheco de Oliveira So...\n",
            "\tNome: Guilherme Vendruscolo Cangemi ...\n",
            "\tNome: Gustavo Guimaraes Souto\n",
            "\tNome: Henrique Querubin Pereira Barbos...\n",
            "\tNome: Igor dos Santos Silva\n",
            "\tNome: Ilan Francisco da Silva\n",
            "\tNome: Israel Felipe da Silva\n",
            "\tNome: Joao Francisco Caprioli Barbosa C...\n",
            "\tNome: Joao Guilherme Jarochinski Marin...\n",
            "\tNome: Joao Lucas Rodrigues Constantino\n",
            "\tNome: Joao Marcos Cardoso da Silva\n",
            "\tNome: Joao Victor de Oliveira Pataro\n",
            "\tNome: Joao Victor Sene Araujo\n",
            "\tNome: Joao Victor Soares Aleixo\n",
            "\tNome: Jonatas Alves Lopes\n",
            "\tNome: Jose Gabriel Furlan de Barros\n",
            "\tNome: Lua Nowacki Scavacini Santilli\n",
            "\tNome: Lucas Keiti Anbo Mihara\n",
            "\tNome: Lucas Massao Fukusawa Dagnon...\n",
            "\tNome: Luis Felipe Bertuol\n",
            "\tNome: Marco Antonio Ribeiro de Toledo\n",
            "\tNome: Marcos Patricio Nogueira Filho\n",
            "\tNome: Mateus dos Santos Ribeiro\n",
            "\tNome: Matheus Ventura de Sousa\n",
            "\tNome: Milena Correa da Silva\n",
            "\tNome: Natan Henrique Sanches\n",
            "\tNome: Pedro Afonso Perez Chagas\n",
            "\tNome: Pedro Ferragut Rodrigues\n",
            "\tNome: Pedro Henrique Borges Monici\n",
            "\tNome: Pedro Henrique Raymundi\n",
            "\tNome: Pedro Kenzo Muramatsu Carmo\n",
            "\tNome: Pedro Liduino do Nascimento\n",
            "\tNome: Pedro Lucas de Moliner de Castro\n",
            "\tNome: Pedro Martelleto Bressane Rezend...\n",
            "\tNome: Raissa Torres Barreira\n",
            "\tNome: Renato Sampaio Kobashigawa\n",
            "\tNome: Rodrigo Lopes Assaf\n",
            "\tNome: Tales Perroni Nicoletti\n",
            "\tNome: Thales Darini Souza\n",
            "\tNome: Thamyres Santos Silva\n",
            "\tNome: Thiago Henrique dos Santos Card...\n",
            "\tNome: Tulio Santana Ramos\n",
            "\tNome: Victor Cologni Seles\n",
            "\tNome: Victor Henrique de Sa Silva\n",
            "\tNome: Victor Paulo Cruz Lutes\n",
            "\tNome: Vitor Caetano Brustolin\n",
            "\tNome: Wellington Tavares Alexandre da ...\n",
            "\tNome: Yann Amado Nunes Costa\n",
            "\n"
          ],
          "name": "stdout"
        }
      ]
    },
    {
      "cell_type": "code",
      "metadata": {
        "id": "OxhiS6dCq0e9"
      },
      "source": [
        "# descomente isto para fechar o arquivo\r\n",
        "# pdfFileObj.close()"
      ],
      "execution_count": 7,
      "outputs": []
    }
  ]
}